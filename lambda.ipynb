{
 "cells": [
  {
   "cell_type": "markdown",
   "id": "9747217c-6ea2-428c-8e22-efb0aeebf658",
   "metadata": {},
   "source": [
    "python program to create a lambda function that adds 25 to a given argument"
   ]
  },
  {
   "cell_type": "code",
   "execution_count": null,
   "id": "ff058cba-20bb-42bf-8337-59dcb15a68ab",
   "metadata": {},
   "outputs": [],
   "source": [
    "m = lambda a : a"
   ]
  }
 ],
 "metadata": {
  "kernelspec": {
   "display_name": "Python 3 (ipykernel)",
   "language": "python",
   "name": "python3"
  },
  "language_info": {
   "codemirror_mode": {
    "name": "ipython",
    "version": 3
   },
   "file_extension": ".py",
   "mimetype": "text/x-python",
   "name": "python",
   "nbconvert_exporter": "python",
   "pygments_lexer": "ipython3",
   "version": "3.9.13"
  }
 },
 "nbformat": 4,
 "nbformat_minor": 5
}
